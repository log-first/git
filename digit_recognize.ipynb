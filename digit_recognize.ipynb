{
 "cells": [
  {
   "cell_type": "code",
   "execution_count": 43,
   "metadata": {},
   "outputs": [
    {
     "data": {
      "text/plain": [
       "'2.0.0-beta1'"
      ]
     },
     "execution_count": 43,
     "metadata": {},
     "output_type": "execute_result"
    }
   ],
   "source": [
    "import pandas as pd\n",
    "import numpy as np\n",
    "import tensorflow as tf\n",
    "from tensorflow import keras\n",
    "from sklearn.decomposition import PCA\n",
    "import matplotlib.pyplot as plt\n",
    "\n",
    "tf.__version__"
   ]
  },
  {
   "cell_type": "code",
   "execution_count": 44,
   "metadata": {},
   "outputs": [
    {
     "data": {
      "text/plain": [
       "0        1\n",
       "1        0\n",
       "2        1\n",
       "3        4\n",
       "4        0\n",
       "        ..\n",
       "41995    0\n",
       "41996    1\n",
       "41997    7\n",
       "41998    6\n",
       "41999    9\n",
       "Name: label, Length: 42000, dtype: int64"
      ]
     },
     "execution_count": 44,
     "metadata": {},
     "output_type": "execute_result"
    }
   ],
   "source": [
    "trainData = pd.read_csv('data/train.csv')\n",
    "trainData[\"label\"]"
   ]
  },
  {
   "cell_type": "code",
   "execution_count": 45,
   "metadata": {},
   "outputs": [
    {
     "data": {
      "text/plain": [
       "(42000,)"
      ]
     },
     "execution_count": 45,
     "metadata": {},
     "output_type": "execute_result"
    }
   ],
   "source": [
    "y_train = trainData['label']\n",
    "np.array(y_train).shape"
   ]
  },
  {
   "cell_type": "code",
   "execution_count": 46,
   "metadata": {},
   "outputs": [
    {
     "data": {
      "text/plain": [
       "(42000, 785)"
      ]
     },
     "execution_count": 46,
     "metadata": {},
     "output_type": "execute_result"
    }
   ],
   "source": [
    "trainData.shape"
   ]
  },
  {
   "cell_type": "code",
   "execution_count": 47,
   "metadata": {},
   "outputs": [
    {
     "data": {
      "text/plain": [
       "array([[1, 0, 0, ..., 0, 0, 0],\n",
       "       [0, 0, 0, ..., 0, 0, 0],\n",
       "       [1, 0, 0, ..., 0, 0, 0],\n",
       "       ...,\n",
       "       [7, 0, 0, ..., 0, 0, 0],\n",
       "       [6, 0, 0, ..., 0, 0, 0],\n",
       "       [9, 0, 0, ..., 0, 0, 0]], dtype=int64)"
      ]
     },
     "execution_count": 47,
     "metadata": {},
     "output_type": "execute_result"
    }
   ],
   "source": [
    "# 获取数据集中的数据的值\n",
    "trainData.values"
   ]
  },
  {
   "cell_type": "code",
   "execution_count": 48,
   "metadata": {},
   "outputs": [
    {
     "name": "stdout",
     "output_type": "stream",
     "text": [
      "(42000, 784)\n"
     ]
    },
    {
     "data": {
      "text/plain": [
       "array([[0, 0, 0, ..., 0, 0, 0],\n",
       "       [0, 0, 0, ..., 0, 0, 0],\n",
       "       [0, 0, 0, ..., 0, 0, 0],\n",
       "       ...,\n",
       "       [0, 0, 0, ..., 0, 0, 0],\n",
       "       [0, 0, 0, ..., 0, 0, 0],\n",
       "       [0, 0, 0, ..., 0, 0, 0]], dtype=int64)"
      ]
     },
     "execution_count": 48,
     "metadata": {},
     "output_type": "execute_result"
    }
   ],
   "source": [
    "x_train = trainData.values[:, 1:]\n",
    "print(x_train.shape)\n",
    "x_train"
   ]
  },
  {
   "cell_type": "code",
   "execution_count": 49,
   "metadata": {},
   "outputs": [
    {
     "name": "stdout",
     "output_type": "stream",
     "text": [
      "(42000,)\n"
     ]
    },
    {
     "data": {
      "text/plain": [
       "array([1, 0, 1, ..., 7, 6, 9], dtype=int64)"
      ]
     },
     "execution_count": 49,
     "metadata": {},
     "output_type": "execute_result"
    }
   ],
   "source": [
    "y_train = trainData.values[:, 0]\n",
    "print(y_train.shape) \n",
    "y_train"
   ]
  },
  {
   "cell_type": "code",
   "execution_count": 50,
   "metadata": {},
   "outputs": [],
   "source": [
    "model = keras.Sequential()\n",
    "model.add(keras.layers.Dense(units=500, activation='relu'))\n",
    "model.add(keras.layers.Dense(units=500, activation='relu'))\n",
    "model.add(keras.layers.Dense(units=10, activation='softmax'))\n"
   ]
  },
  {
   "cell_type": "code",
   "execution_count": 51,
   "metadata": {},
   "outputs": [
    {
     "data": {
      "text/plain": [
       "(28000, 783)"
      ]
     },
     "execution_count": 51,
     "metadata": {},
     "output_type": "execute_result"
    }
   ],
   "source": [
    "testData = pd.read_csv('data/test.csv')\n",
    "testData.values[:, 1:].shape"
   ]
  },
  {
   "cell_type": "code",
   "execution_count": 52,
   "metadata": {},
   "outputs": [
    {
     "data": {
      "text/plain": [
       "array([0, 0, 0, ..., 0, 0, 0], dtype=int64)"
      ]
     },
     "execution_count": 52,
     "metadata": {},
     "output_type": "execute_result"
    }
   ],
   "source": [
    "testData.values[:, 0]"
   ]
  },
  {
   "cell_type": "code",
   "execution_count": 53,
   "metadata": {},
   "outputs": [],
   "source": [
    "# 加载数据\n",
    "def load_data(): \n",
    "    print(\"====>>===>>===>> LoadData\")\n",
    "    trainData = pd.read_csv('data/train.csv')\n",
    "    testData = pd.read_csv('data/test.csv')\n",
    "    x_train = trainData.values[:, 1:]\n",
    "    y_train = trainData.values[:, 0]\n",
    "    x_test = testData.values[:, :]\n",
    "    # 归一化\n",
    "    x_train = x_train/255\n",
    "    x_test = x_test/255\n",
    "    return x_train, y_train, x_test\n",
    "    pass    \n"
   ]
  },
  {
   "cell_type": "code",
   "execution_count": 54,
   "metadata": {},
   "outputs": [],
   "source": [
    "# 降低数据维度\n",
    "def data_pca(x_train, x_test, COMPONENT_NUM):\n",
    "    print(\"====>>===>>===>> PCA \")\n",
    "    pca = PCA(n_components=COMPONENT_NUM, copy=True, whiten=False)  # 创建一个 PCA 对象\n",
    "    pca.fit(x_train)    # 构建 PCA 模型\n",
    "    pcaXTrain = pca.transform(x_train)\n",
    "    pcaXTest = pca.transform(x_test)\n",
    "\n",
    "    return pcaXTrain, pcaXTest\n"
   ]
  },
  {
   "cell_type": "code",
   "execution_count": 63,
   "metadata": {},
   "outputs": [],
   "source": [
    "# 训练模型    \n",
    "def create_model(x_train, y_train, x_test):\n",
    "    print(\"====>>===>>===>> TrainMoel \")\n",
    "    \n",
    "    # 需要定义输入层的大小，不然保存的模型也有问题\n",
    "    model = keras.Sequential()\n",
    "    model.add(keras.layers.Dense(units=500, input_shape=(x_train.shape[1], ), activation='relu'))\n",
    "    model.add(keras.layers.Dense(units=500, activation='relu'))\n",
    "    model.add(keras.layers.Dense(units=10, activation='softmax'))\n",
    "\n",
    "    model.compile(optimizer='adam', \n",
    "                    loss='sparse_categorical_crossentropy', \n",
    "                    metrics=['accuracy'])\n",
    "    # epochs：表示一共训练的周期， batch_size：把多少层组合成一个训练单元，多线程加速\n",
    "    history = model.fit(x_train, y_train, epochs=10, batch_size=32)\n",
    "    model.summary()\n",
    "    # 测试模型\n",
    "     #保存模型\n",
    "    model.save('model/model1.h5')\n",
    "    # 预测数据\n",
    "    result = model.predict(x_test)\n",
    "    print(result)\n",
    "    \n",
    "    return history\n"
   ]
  },
  {
   "cell_type": "code",
   "execution_count": 56,
   "metadata": {},
   "outputs": [
    {
     "name": "stdout",
     "output_type": "stream",
     "text": [
      "====>>===>>===>> LoadData\n"
     ]
    }
   ],
   "source": [
    "x_train, y_train, x_test = load_data()"
   ]
  },
  {
   "cell_type": "code",
   "execution_count": 57,
   "metadata": {},
   "outputs": [
    {
     "name": "stdout",
     "output_type": "stream",
     "text": [
      "====>>===>>===>> PCA \n"
     ]
    }
   ],
   "source": [
    "pcax_train, pcax_test = data_pca(x_train, x_test, 0.9)"
   ]
  },
  {
   "cell_type": "code",
   "execution_count": 58,
   "metadata": {},
   "outputs": [
    {
     "name": "stdout",
     "output_type": "stream",
     "text": [
      "(42000, 87) (28000, 87)\n",
      "[ 3.32190522 -0.46932019  3.13070354  2.45306793  1.20052657  2.0740953\n",
      "  0.7346459   0.27082966 -1.24310581  0.98568907  2.56808197 -0.69164042\n",
      " -1.33896483 -0.48007285 -0.31666621 -0.85383598 -1.7598985   1.1127037\n",
      " -1.28484004 -0.65576391 -0.97138322  0.58110974  1.16467351 -1.84140247\n",
      "  0.2579552  -0.46572042 -0.14093324 -0.23201418 -0.45428519 -0.67112547\n",
      "  0.74915563 -0.77246594 -0.26646933  0.91617133  0.17457964  0.45339475\n",
      "  0.3875669  -0.07023289 -0.27877029 -0.295251   -0.2496131  -0.58785452\n",
      " -1.09315119  0.45731992  0.25754632  0.44007646  0.77251199 -0.37837487\n",
      "  0.57031196 -0.0510938   0.42303002  0.02359084 -0.56939015 -0.09385663\n",
      "  0.13332239 -0.30913786  0.01091749 -0.12600315  0.44814993  0.04855498\n",
      "  0.19473891 -0.74181079  0.64441837  0.04463152  0.28666107 -0.65346968\n",
      "  0.26273464  0.08131494  0.27357135 -0.15527749 -1.11881189  0.19038616\n",
      " -0.37652002 -0.06293331  0.59696919 -0.01591315 -0.23493578  0.56184488\n",
      "  0.29340562  0.14012564  0.07878856 -0.0054024   0.60735422 -0.10606085\n",
      " -0.04527453 -0.25145296  0.12045496]\n"
     ]
    }
   ],
   "source": [
    "print(pcax_train.shape, pcax_test.shape)\n",
    "print(pcax_test[0])"
   ]
  },
  {
   "cell_type": "code",
   "execution_count": 64,
   "metadata": {
    "scrolled": true
   },
   "outputs": [
    {
     "name": "stdout",
     "output_type": "stream",
     "text": [
      "====>>===>>===>> TrainMoel \n",
      "Train on 42000 samples\n",
      "Epoch 1/10\n",
      "42000/42000 [==============================] - 5s 117us/sample - loss: 0.1949 - accuracy: 0.9410\n",
      "Epoch 2/10\n",
      "42000/42000 [==============================] - 5s 111us/sample - loss: 0.0763 - accuracy: 0.9767\n",
      "Epoch 3/10\n",
      "42000/42000 [==============================] - 5s 118us/sample - loss: 0.0486 - accuracy: 0.9844\n",
      "Epoch 4/10\n",
      "42000/42000 [==============================] - 5s 116us/sample - loss: 0.0356 - accuracy: 0.9880\n",
      "Epoch 5/10\n",
      "42000/42000 [==============================] - 5s 115us/sample - loss: 0.0276 - accuracy: 0.9907\n",
      "Epoch 6/10\n",
      "42000/42000 [==============================] - 5s 127us/sample - loss: 0.0233 - accuracy: 0.9925\n",
      "Epoch 7/10\n",
      "42000/42000 [==============================] - 5s 122us/sample - loss: 0.0226 - accuracy: 0.9924\n",
      "Epoch 8/10\n",
      "42000/42000 [==============================] - 5s 117us/sample - loss: 0.0187 - accuracy: 0.9937\n",
      "Epoch 9/10\n",
      "42000/42000 [==============================] - 5s 116us/sample - loss: 0.0169 - accuracy: 0.9948\n",
      "Epoch 10/10\n",
      "42000/42000 [==============================] - 5s 115us/sample - loss: 0.0169 - accuracy: 0.9950\n",
      "Model: \"sequential_2\"\n",
      "_________________________________________________________________\n",
      "Layer (type)                 Output Shape              Param #   \n",
      "=================================================================\n",
      "dense_6 (Dense)              (None, 500)               44000     \n",
      "_________________________________________________________________\n",
      "dense_7 (Dense)              (None, 500)               250500    \n",
      "_________________________________________________________________\n",
      "dense_8 (Dense)              (None, 10)                5010      \n",
      "=================================================================\n",
      "Total params: 299,510\n",
      "Trainable params: 299,510\n",
      "Non-trainable params: 0\n",
      "_________________________________________________________________\n",
      "[[5.38625088e-22 6.49936729e-21 1.00000000e+00 ... 6.95204853e-13\n",
      "  1.99464645e-17 2.50900369e-26]\n",
      " [1.00000000e+00 1.69588262e-20 9.75422235e-19 ... 2.67964114e-16\n",
      "  4.27192823e-21 7.09997942e-20]\n",
      " [2.03314572e-14 4.80355816e-12 8.20048474e-11 ... 3.85860289e-07\n",
      "  1.41781961e-10 9.99994636e-01]\n",
      " ...\n",
      " [1.55823556e-22 2.67046197e-20 1.05560065e-18 ... 1.06183879e-21\n",
      "  1.18016889e-14 3.31232499e-16]\n",
      " [8.52398881e-12 2.86328507e-18 2.44473764e-11 ... 1.04045876e-10\n",
      "  1.25733703e-11 9.99999642e-01]\n",
      " [1.05154439e-20 6.48161861e-20 1.00000000e+00 ... 1.22544534e-15\n",
      "  9.02370774e-16 4.13803160e-21]]\n"
     ]
    }
   ],
   "source": [
    "hity = create_model(pcax_train, y_train, pcax_test)"
   ]
  },
  {
   "cell_type": "code",
   "execution_count": null,
   "metadata": {},
   "outputs": [],
   "source": [
    "hity.history"
   ]
  },
  {
   "cell_type": "code",
   "execution_count": null,
   "metadata": {
    "scrolled": true
   },
   "outputs": [],
   "source": [
    "loss = hity.history['loss']\n",
    "accuracy = hity.history['accuracy']\n",
    "print(loss,'\\n', accuracy)"
   ]
  },
  {
   "cell_type": "code",
   "execution_count": null,
   "metadata": {},
   "outputs": [],
   "source": [
    "x = range(1, len(loss) + 1)\n",
    "plt.plot(x, loss, label='training loss' )\n",
    "plt.xlabel('x')\n",
    "plt.ylabel('loss')\n",
    "plt.show()"
   ]
  },
  {
   "cell_type": "code",
   "execution_count": null,
   "metadata": {},
   "outputs": [],
   "source": [
    "plt.plot(x, accuracy)\n",
    "plt.ylabel('P')\n",
    "plt.xlabel('x')"
   ]
  },
  {
   "cell_type": "code",
   "execution_count": null,
   "metadata": {},
   "outputs": [],
   "source": [
    "model1 = keras.models.load_model('model/model1.h5')"
   ]
  },
  {
   "cell_type": "code",
   "execution_count": null,
   "metadata": {
    "scrolled": true
   },
   "outputs": [],
   "source": [
    "pcax_test[0]"
   ]
  },
  {
   "cell_type": "code",
   "execution_count": null,
   "metadata": {},
   "outputs": [],
   "source": [
    "result2 = model1.predict(pcax_test)\n",
    "result2"
   ]
  },
  {
   "cell_type": "code",
   "execution_count": null,
   "metadata": {},
   "outputs": [],
   "source": [
    "array = np.zeros((len(result2), 1))\n",
    "for i in range(len(result2)):\n",
    "    array[i] = np.argmax(result2[i])\n",
    "    \n",
    "array"
   ]
  },
  {
   "cell_type": "code",
   "execution_count": null,
   "metadata": {
    "scrolled": true
   },
   "outputs": [],
   "source": [
    "table = pd.DataFrame(array, columns=['label'])\n",
    "table"
   ]
  },
  {
   "cell_type": "code",
   "execution_count": null,
   "metadata": {},
   "outputs": [],
   "source": [
    "table.to_csv('data/test_label.csv')"
   ]
  },
  {
   "cell_type": "code",
   "execution_count": null,
   "metadata": {},
   "outputs": [],
   "source": [
    "trainData = x_train * 255\n",
    "testData = x_test * 255"
   ]
  },
  {
   "cell_type": "code",
   "execution_count": null,
   "metadata": {},
   "outputs": [],
   "source": [
    "plt.plot(trainData[0])"
   ]
  },
  {
   "cell_type": "code",
   "execution_count": null,
   "metadata": {},
   "outputs": [],
   "source": [
    "plt.show()"
   ]
  },
  {
   "cell_type": "code",
   "execution_count": null,
   "metadata": {
    "scrolled": true
   },
   "outputs": [],
   "source": [
    "image = np.zeros((28, 28))\n",
    "for i in range(28):\n",
    "    for j in range(28):\n",
    "        image[i, j] = testData[0, i * 28 + j]\n",
    "image"
   ]
  },
  {
   "cell_type": "code",
   "execution_count": null,
   "metadata": {},
   "outputs": [],
   "source": [
    "fig = plt.figure('image')\n",
    "plt.imshow(image)\n"
   ]
  },
  {
   "cell_type": "code",
   "execution_count": null,
   "metadata": {},
   "outputs": [],
   "source": [
    "trainD = pd.read_csv('data/train.csv')\n",
    "testD = pd.read_csv('data/test.csv')"
   ]
  },
  {
   "cell_type": "code",
   "execution_count": null,
   "metadata": {
    "scrolled": true
   },
   "outputs": [],
   "source": [
    "testData = testD.values[:, :]\n",
    "image2 = np.zeros(( 28, 28))\n",
    "\n",
    "for j in range(28):\n",
    "    for c in range(28):\n",
    "        image2[ j, c] = testData[0, j * 28 + c]\n",
    "            \n",
    "image2\n",
    "            "
   ]
  },
  {
   "cell_type": "code",
   "execution_count": null,
   "metadata": {},
   "outputs": [],
   "source": [
    "plt.figure()\n",
    "plt.imshow(image2)"
   ]
  },
  {
   "cell_type": "code",
   "execution_count": null,
   "metadata": {},
   "outputs": [],
   "source": [
    "data = pd.read_csv('data/sample_submission.csv')\n"
   ]
  },
  {
   "cell_type": "code",
   "execution_count": null,
   "metadata": {},
   "outputs": [],
   "source": [
    "type(data)"
   ]
  },
  {
   "cell_type": "code",
   "execution_count": null,
   "metadata": {},
   "outputs": [],
   "source": [
    "data.columns"
   ]
  },
  {
   "cell_type": "code",
   "execution_count": null,
   "metadata": {},
   "outputs": [],
   "source": [
    "data.columns"
   ]
  },
  {
   "cell_type": "code",
   "execution_count": null,
   "metadata": {},
   "outputs": [],
   "source": [
    "obj = pd.Series(np.random.randint(1, 10), index=range(1, 28000))\n",
    "data1 = pd.DataFrame(obj, columns=['image'])\n",
    "data1.to_csv('data/data2.csv')"
   ]
  },
  {
   "cell_type": "code",
   "execution_count": null,
   "metadata": {},
   "outputs": [],
   "source": [
    "data3 = pd.read_csv('data/sample_submission.csv')\n",
    "data3.index"
   ]
  },
  {
   "cell_type": "code",
   "execution_count": 65,
   "metadata": {},
   "outputs": [],
   "source": [
    "model = keras.models.load_model('model/model1.h5')"
   ]
  },
  {
   "cell_type": "code",
   "execution_count": 66,
   "metadata": {},
   "outputs": [
    {
     "data": {
      "text/plain": [
       "array([[5.38625088e-22, 6.49936729e-21, 1.00000000e+00, ...,\n",
       "        6.95204853e-13, 1.99464645e-17, 2.50900369e-26],\n",
       "       [1.00000000e+00, 1.69588262e-20, 9.75422235e-19, ...,\n",
       "        2.67964114e-16, 4.27192823e-21, 7.09997942e-20],\n",
       "       [2.03314572e-14, 4.80355816e-12, 8.20048474e-11, ...,\n",
       "        3.85860289e-07, 1.41781961e-10, 9.99994636e-01],\n",
       "       ...,\n",
       "       [1.55823556e-22, 2.67046197e-20, 1.05560065e-18, ...,\n",
       "        1.06183879e-21, 1.18016889e-14, 3.31232499e-16],\n",
       "       [8.52398881e-12, 2.86328507e-18, 2.44473764e-11, ...,\n",
       "        1.04045876e-10, 1.25733703e-11, 9.99999642e-01],\n",
       "       [1.05154439e-20, 6.48161861e-20, 1.00000000e+00, ...,\n",
       "        1.22544534e-15, 9.02370774e-16, 4.13803160e-21]], dtype=float32)"
      ]
     },
     "execution_count": 66,
     "metadata": {},
     "output_type": "execute_result"
    }
   ],
   "source": [
    "result = model.predict(pcax_test)\n",
    "result"
   ]
  },
  {
   "cell_type": "code",
   "execution_count": 68,
   "metadata": {},
   "outputs": [
    {
     "data": {
      "text/plain": [
       "array([[2.],\n",
       "       [0.],\n",
       "       [9.],\n",
       "       ...,\n",
       "       [3.],\n",
       "       [9.],\n",
       "       [2.]])"
      ]
     },
     "execution_count": 68,
     "metadata": {},
     "output_type": "execute_result"
    }
   ],
   "source": [
    "test_label = np.zeros((len(result), 1))\n",
    "for i in range(len(result)):\n",
    "    test_label[i, 0] = np.argmax(result[i])\n",
    "\n",
    "test_label    "
   ]
  },
  {
   "cell_type": "code",
   "execution_count": 75,
   "metadata": {},
   "outputs": [],
   "source": [
    "data = pd.DataFrame({'image': range(1, len(test_label) + 1), 'label': test_label[:, 0]})\n",
    "data.to_csv('data/data3.csv')"
   ]
  },
  {
   "cell_type": "code",
   "execution_count": null,
   "metadata": {},
   "outputs": [],
   "source": []
  }
 ],
 "metadata": {
  "kernelspec": {
   "display_name": "Python 3",
   "language": "python",
   "name": "python3"
  },
  "language_info": {
   "codemirror_mode": {
    "name": "ipython",
    "version": 3
   },
   "file_extension": ".py",
   "mimetype": "text/x-python",
   "name": "python",
   "nbconvert_exporter": "python",
   "pygments_lexer": "ipython3",
   "version": "3.7.4"
  }
 },
 "nbformat": 4,
 "nbformat_minor": 2
}
